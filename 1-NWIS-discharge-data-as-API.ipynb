{
 "cells": [
  {
   "cell_type": "markdown",
   "metadata": {},
   "source": [
    "# Accessing the NWIS Discharge data  - as an API\n",
    "In the last session, we used `urllib` and `pandas` to retrieve data from a static URL. Here we refine that procedure to again retrieve water flow data from the NWIS website. What's different this time, however, is that we examine the URL as a web service, dissecting it into its components (web service address and web service parameters). We also switch to using the Python `requests` package to handle the interaction, as it's slightly more user friendly than the `urllib` package. "
   ]
  },
  {
   "cell_type": "markdown",
   "metadata": {},
   "source": [
    "The URL listing current discharge conditions in the Eno near Durham gage site is here: \n",
    "```html\n",
    "http://waterdata.usgs.gov/nwis/uv?cb_00060=on&cb_00065=on&format=rdb&site_no=02085070&period=1&begin_date=&end_date=\n",
    "```"
   ]
  },
  {
   "cell_type": "markdown",
   "metadata": {},
   "source": [
    "As you'll see in the example below, the `requests` package constructs a web service request with two parameters. The first is the full service address (`http://waterdata.usgs.gov/nwis/uv`), which is followed by the set of service parameters, passed as a Python dictionary."
   ]
  },
  {
   "cell_type": "code",
   "execution_count": 8,
   "metadata": {},
   "outputs": [],
   "source": [
    "#import packages\n",
    "import requests\n",
    "requests?"
   ]
  },
  {
   "cell_type": "code",
   "execution_count": 7,
   "metadata": {},
   "outputs": [
    {
     "name": "stdout",
     "output_type": "stream",
     "text": [
      "{'cb_00060': 'on', 'cb_00065': 'on', 'format': 'rdb', 'period': '1', 'site_no': '02085070', 'begin_date': '', 'end_date': ''}\n"
     ]
    },
    {
     "data": {
      "text/plain": [
       "dict"
      ]
     },
     "execution_count": 7,
     "metadata": {},
     "output_type": "execute_result"
    }
   ],
   "source": [
    "#dissect the URL into it's components, for easy comprehension -- and easy modification\n",
    "serviceURL = 'http://waterdata.usgs.gov/nwis/uv'\n",
    "parameters = {'cb_00060':'on',\n",
    "              'cb_00065':'on',\n",
    "              'format':'rdb',\n",
    "              'period':'1',\n",
    "              'site_no':'02085070',\n",
    "              'begin_date':'',\n",
    "              'end_date':''\n",
    "             }\n",
    "print(parameters)\n",
    "type(parameters)\n",
    "#The parameters are in dictionary format"
   ]
  },
  {
   "cell_type": "markdown",
   "metadata": {},
   "source": [
    "Ok, here we send the request, storing the response in a variable called `response`. The second line extacts the response as raw text into the variable `responseText`."
   ]
  },
  {
   "cell_type": "code",
   "execution_count": 5,
   "metadata": {},
   "outputs": [],
   "source": [
    "#Pass the url and its parameters to the server and get its response\n",
    "response = requests.get(serviceURL, parameters)\n",
    "responseText = response.text"
   ]
  },
  {
   "cell_type": "code",
   "execution_count": 11,
   "metadata": {
    "scrolled": true
   },
   "outputs": [
    {
     "name": "stdout",
     "output_type": "stream",
     "text": [
      "# ---------------------------------- WARNING ----------------------------------------\n",
      "# Some of the data that you have obtained from this U.S. Geological Survey database\n",
      "# may not have received Director's approval. Any such data values are qualified\n",
      "# as provisional and are subject to revision. Provisional data are released on the\n",
      "# condition that neither the USGS nor the United States Government may be held liable\n",
      "# for any damages resulting from its use.\n",
      "#\n",
      "# Additional info: https://help.waterdata.usgs.gov/policies/provisional-data-statement\n",
      "#\n",
      "# File-format description:  https://help.waterdata.usgs.gov/faq/about-tab-delimited-output\n",
      "# Automated-retrieval info: https://help.waterdata.usgs.gov/faq/automated-retrievals\n",
      "#\n",
      "# Contact:   gs-w_support_nwisweb@usgs.gov\n",
      "# retrieved: 2018-11-07 20:12:13 EST       (caww01)\n",
      "#\n",
      "# Data for the following 1 site(s) are contained in this file\n",
      "#    USGS 02085070 ENO RIVER NEAR DURHAM, NC\n",
      "# -----------------------------------------------------------------------------------\n",
      "#\n",
      "# Data provided for site 02085070\n",
      "#            TS   parameter     Description\n",
      "#         89062       00060     Discharge, cubic feet per second\n",
      "#         89063       00065     Gage height, feet\n",
      "#\n",
      "# Data-value qualification codes included in this output:\n",
      "#     P  Provisional data subject to revision.\n",
      "# \n",
      "agency_cd\tsite_no\tdatetime\ttz_cd\t89062_00060\t89062_00060_cd\t89063_00065\t89063_00065_cd\n",
      "5s\t15s\t20d\t6s\t14n\t10s\t14n\t10s\n",
      "USGS\t02085070\t2018-11-06 00:00\tEST\t808\tP\t4.32\tP\n",
      "USGS\t02085070\t2018-11-06 00:15\tEST\t804\tP\t4.31\tP\n",
      "USGS\t02085070\t2018-11-06 00:30\tEST\t790\tP\t4.27\tP\n",
      "USGS\t02085070\t2018-11-06 00:45\tEST\t779\tP\t4.24\tP\n",
      "USGS\t02085070\t2018-11-06 01:00\tEST\t772\tP\t4.22\tP\n",
      "USGS\t02085070\t2018-11-06 01:15\tEST\t768\tP\t4.21\tP\n",
      "USGS\t02085070\t2018-11-06 01:30\tEST\t755\tP\t4.18\tP\n",
      "USGS\t02085070\t2018-11-06 01:45\tEST\t750\tP\t4.17\tP\n",
      "USGS\t02085070\t2018-11-06 02:00\tEST\t732\tP\t4.13\tP\n",
      "USGS\t02085070\t2018-11-06 02:15\tEST\t728\tP\t4.12\tP\n",
      "USGS\t02085070\t2018-11-06 02:30\tEST\t719\tP\t4.10\tP\n",
      "USGS\t02085070\t2018-11-06 02:45\tEST\t711\tP\t4.08\tP\n",
      "USGS\t02085070\t2018-11-06 03:00\tEST\t702\tP\t4.06\tP\n",
      "USGS\t02085070\t2018-11-06 03:15\tEST\t694\tP\t4.04\tP\n",
      "USGS\t02085070\t2018-11-06 03:30\tEST\t685\tP\t4.02\tP\n",
      "USGS\t02085070\t2018-11-06 03:45\tEST\t685\tP\t4.02\tP\n",
      "USGS\t02085070\t2018-11-06 04:00\tEST\t673\tP\t3.99\tP\n",
      "USGS\t02085070\t2018-11-06 04:15\tEST\t669\tP\t3.98\tP\n",
      "USGS\t02085070\t2018-11-06 04:30\tEST\t656\tP\t3.95\tP\n",
      "USGS\t02085070\t2018-11-06 04:45\tEST\t660\tP\t3.96\tP\n",
      "USGS\t02085070\t2018-11-06 05:00\tEST\t652\tP\t3.94\tP\n",
      "USGS\t02085070\t2018-11-06 05:15\tEST\t644\tP\t3.92\tP\n",
      "USGS\t02085070\t2018-11-06 05:30\tEST\t640\tP\t3.91\tP\n",
      "USGS\t02085070\t2018-11-06 05:45\tEST\t632\tP\t3.89\tP\n",
      "USGS\t02085070\t2018-11-06 06:00\tEST\t624\tP\t3.87\tP\n",
      "USGS\t02085070\t2018-11-06 06:15\tEST\t620\tP\t3.86\tP\n",
      "USGS\t02085070\t2018-11-06 06:30\tEST\t613\tP\t3.84\tP\n",
      "USGS\t02085070\t2018-11-06 06:45\tEST\t609\tP\t3.83\tP\n",
      "USGS\t02085070\t2018-11-06 07:00\tEST\t601\tP\t3.81\tP\n",
      "USGS\t02085070\t2018-11-06 07:15\tEST\t601\tP\t3.81\tP\n",
      "USGS\t02085070\t2018-11-06 07:30\tEST\t594\tP\t3.79\tP\n",
      "USGS\t02085070\t2018-11-06 07:45\tEST\t582\tP\t3.76\tP\n",
      "USGS\t02085070\t2018-11-06 08:00\tEST\t582\tP\t3.76\tP\n",
      "USGS\t02085070\t2018-11-06 08:15\tEST\t575\tP\t3.74\tP\n",
      "USGS\t02085070\t2018-11-06 08:30\tEST\t571\tP\t3.73\tP\n",
      "USGS\t02085070\t2018-11-06 08:45\tEST\t560\tP\t3.70\tP\n",
      "USGS\t02085070\t2018-11-06 09:00\tEST\t560\tP\t3.70\tP\n",
      "USGS\t02085070\t2018-11-06 09:15\tEST\t553\tP\t3.68\tP\n",
      "USGS\t02085070\t2018-11-06 09:30\tEST\t549\tP\t3.67\tP\n",
      "USGS\t02085070\t2018-11-06 09:45\tEST\t546\tP\t3.66\tP\n",
      "USGS\t02085070\t2018-11-06 10:00\tEST\t535\tP\t3.63\tP\n",
      "USGS\t02085070\t2018-11-06 10:15\tEST\t532\tP\t3.62\tP\n",
      "USGS\t02085070\t2018-11-06 10:30\tEST\t525\tP\t3.60\tP\n",
      "USGS\t02085070\t2018-11-06 10:45\tEST\t521\tP\t3.59\tP\n",
      "USGS\t02085070\t2018-11-06 11:00\tEST\t513\tP\t3.57\tP\n",
      "USGS\t02085070\t2018-11-06 11:15\tEST\t505\tP\t3.55\tP\n",
      "USGS\t02085070\t2018-11-06 11:30\tEST\t505\tP\t3.55\tP\n",
      "USGS\t02085070\t2018-11-06 11:45\tEST\t497\tP\t3.53\tP\n",
      "USGS\t02085070\t2018-11-06 12:00\tEST\t493\tP\t3.52\tP\n",
      "USGS\t02085070\t2018-11-06 12:15\tEST\t481\tP\t3.49\tP\n",
      "USGS\t02085070\t2018-11-06 12:30\tEST\t485\tP\t3.50\tP\n",
      "USGS\t02085070\t2018-11-06 12:45\tEST\t473\tP\t3.47\tP\n",
      "USGS\t02085070\t2018-11-06 13:00\tEST\t473\tP\t3.47\tP\n",
      "USGS\t02085070\t2018-11-06 13:15\tEST\t465\tP\t3.45\tP\n",
      "USGS\t02085070\t2018-11-06 13:30\tEST\t461\tP\t3.44\tP\n",
      "USGS\t02085070\t2018-11-06 13:45\tEST\t458\tP\t3.43\tP\n",
      "USGS\t02085070\t2018-11-06 14:00\tEST\t450\tP\t3.41\tP\n",
      "USGS\t02085070\t2018-11-06 14:15\tEST\t446\tP\t3.40\tP\n",
      "USGS\t02085070\t2018-11-06 14:30\tEST\t446\tP\t3.40\tP\n",
      "USGS\t02085070\t2018-11-06 14:45\tEST\t435\tP\t3.37\tP\n",
      "USGS\t02085070\t2018-11-06 15:00\tEST\t439\tP\t3.38\tP\n",
      "USGS\t02085070\t2018-11-06 15:15\tEST\t435\tP\t3.37\tP\n",
      "USGS\t02085070\t2018-11-06 15:30\tEST\t432\tP\t3.36\tP\n",
      "USGS\t02085070\t2018-11-06 15:45\tEST\t428\tP\t3.35\tP\n",
      "USGS\t02085070\t2018-11-06 16:00\tEST\t417\tP\t3.32\tP\n",
      "USGS\t02085070\t2018-11-06 16:15\tEST\t417\tP\t3.32\tP\n",
      "USGS\t02085070\t2018-11-06 16:30\tEST\t417\tP\t3.32\tP\n",
      "USGS\t02085070\t2018-11-06 16:45\tEST\t414\tP\t3.31\tP\n",
      "USGS\t02085070\t2018-11-06 17:00\tEST\t407\tP\t3.29\tP\n",
      "USGS\t02085070\t2018-11-06 17:15\tEST\t407\tP\t3.29\tP\n",
      "USGS\t02085070\t2018-11-06 17:30\tEST\t400\tP\t3.27\tP\n",
      "USGS\t02085070\t2018-11-06 17:45\tEST\t400\tP\t3.27\tP\n",
      "USGS\t02085070\t2018-11-06 18:00\tEST\t396\tP\t3.26\tP\n",
      "USGS\t02085070\t2018-11-06 18:15\tEST\t393\tP\t3.25\tP\n",
      "USGS\t02085070\t2018-11-06 18:30\tEST\t390\tP\t3.24\tP\n",
      "USGS\t02085070\t2018-11-06 18:45\tEST\t390\tP\t3.24\tP\n",
      "USGS\t02085070\t2018-11-06 19:00\tEST\t379\tP\t3.21\tP\n",
      "USGS\t02085070\t2018-11-06 19:15\tEST\t383\tP\t3.22\tP\n",
      "USGS\t02085070\t2018-11-06 19:30\tEST\t375\tP\t3.20\tP\n",
      "USGS\t02085070\t2018-11-06 19:45\tEST\t375\tP\t3.20\tP\n",
      "USGS\t02085070\t2018-11-06 20:00\tEST\t371\tP\t3.19\tP\n",
      "USGS\t02085070\t2018-11-06 20:15\tEST\t367\tP\t3.18\tP\n",
      "USGS\t02085070\t2018-11-06 20:30\tEST\t364\tP\t3.17\tP\n",
      "USGS\t02085070\t2018-11-06 20:45\tEST\t360\tP\t3.16\tP\n",
      "USGS\t02085070\t2018-11-06 21:00\tEST\t356\tP\t3.15\tP\n",
      "USGS\t02085070\t2018-11-06 21:15\tEST\t352\tP\t3.14\tP\n",
      "USGS\t02085070\t2018-11-06 21:30\tEST\t352\tP\t3.14\tP\n",
      "USGS\t02085070\t2018-11-06 21:45\tEST\t348\tP\t3.13\tP\n",
      "USGS\t02085070\t2018-11-06 22:00\tEST\t345\tP\t3.12\tP\n",
      "USGS\t02085070\t2018-11-06 22:15\tEST\t345\tP\t3.12\tP\n",
      "USGS\t02085070\t2018-11-06 22:30\tEST\t337\tP\t3.10\tP\n",
      "USGS\t02085070\t2018-11-06 22:45\tEST\t337\tP\t3.10\tP\n",
      "USGS\t02085070\t2018-11-06 23:00\tEST\t337\tP\t3.10\tP\n",
      "USGS\t02085070\t2018-11-06 23:15\tEST\t334\tP\t3.09\tP\n",
      "USGS\t02085070\t2018-11-06 23:30\tEST\t330\tP\t3.08\tP\n",
      "USGS\t02085070\t2018-11-06 23:45\tEST\t330\tP\t3.08\tP\n",
      "USGS\t02085070\t2018-11-07 00:00\tEST\t330\tP\t3.08\tP\n",
      "USGS\t02085070\t2018-11-07 00:15\tEST\t323\tP\t3.06\tP\n",
      "USGS\t02085070\t2018-11-07 00:30\tEST\t326\tP\t3.07\tP\n",
      "USGS\t02085070\t2018-11-07 00:45\tEST\t316\tP\t3.04\tP\n",
      "USGS\t02085070\t2018-11-07 01:00\tEST\t316\tP\t3.04\tP\n",
      "USGS\t02085070\t2018-11-07 01:15\tEST\t316\tP\t3.04\tP\n",
      "USGS\t02085070\t2018-11-07 01:30\tEST\t316\tP\t3.04\tP\n",
      "USGS\t02085070\t2018-11-07 01:45\tEST\t309\tP\t3.02\tP\n",
      "USGS\t02085070\t2018-11-07 02:00\tEST\t312\tP\t3.03\tP\n",
      "USGS\t02085070\t2018-11-07 02:15\tEST\t309\tP\t3.02\tP\n",
      "USGS\t02085070\t2018-11-07 02:30\tEST\t309\tP\t3.02\tP\n",
      "USGS\t02085070\t2018-11-07 02:45\tEST\t306\tP\t3.01\tP\n",
      "USGS\t02085070\t2018-11-07 03:00\tEST\t302\tP\t3.00\tP\n",
      "USGS\t02085070\t2018-11-07 03:15\tEST\t302\tP\t3.00\tP\n",
      "USGS\t02085070\t2018-11-07 03:30\tEST\t302\tP\t3.00\tP\n",
      "USGS\t02085070\t2018-11-07 03:45\tEST\t299\tP\t2.99\tP\n",
      "USGS\t02085070\t2018-11-07 04:00\tEST\t299\tP\t2.99\tP\n",
      "USGS\t02085070\t2018-11-07 04:15\tEST\t292\tP\t2.97\tP\n",
      "USGS\t02085070\t2018-11-07 04:30\tEST\t292\tP\t2.97\tP\n",
      "USGS\t02085070\t2018-11-07 04:45\tEST\t292\tP\t2.97\tP\n",
      "USGS\t02085070\t2018-11-07 05:00\tEST\t289\tP\t2.96\tP\n",
      "USGS\t02085070\t2018-11-07 05:15\tEST\t285\tP\t2.95\tP\n",
      "USGS\t02085070\t2018-11-07 05:30\tEST\t285\tP\t2.95\tP\n",
      "USGS\t02085070\t2018-11-07 05:45\tEST\t285\tP\t2.95\tP\n",
      "USGS\t02085070\t2018-11-07 06:00\tEST\t282\tP\t2.94\tP\n",
      "USGS\t02085070\t2018-11-07 06:15\tEST\t282\tP\t2.94\tP\n",
      "USGS\t02085070\t2018-11-07 06:30\tEST\t282\tP\t2.94\tP\n",
      "USGS\t02085070\t2018-11-07 06:45\tEST\t276\tP\t2.92\tP\n",
      "USGS\t02085070\t2018-11-07 07:00\tEST\t276\tP\t2.92\tP\n",
      "USGS\t02085070\t2018-11-07 07:15\tEST\t272\tP\t2.91\tP\n",
      "USGS\t02085070\t2018-11-07 07:30\tEST\t269\tP\t2.90\tP\n",
      "USGS\t02085070\t2018-11-07 07:45\tEST\t269\tP\t2.90\tP\n",
      "USGS\t02085070\t2018-11-07 08:00\tEST\t266\tP\t2.89\tP\n",
      "USGS\t02085070\t2018-11-07 08:15\tEST\t269\tP\t2.90\tP\n",
      "USGS\t02085070\t2018-11-07 08:30\tEST\t266\tP\t2.89\tP\n",
      "USGS\t02085070\t2018-11-07 08:45\tEST\t263\tP\t2.88\tP\n",
      "USGS\t02085070\t2018-11-07 09:00\tEST\t263\tP\t2.88\tP\n",
      "USGS\t02085070\t2018-11-07 09:15\tEST\t257\tP\t2.86\tP\n",
      "USGS\t02085070\t2018-11-07 09:30\tEST\t260\tP\t2.87\tP\n",
      "USGS\t02085070\t2018-11-07 09:45\tEST\t257\tP\t2.86\tP\n",
      "USGS\t02085070\t2018-11-07 10:00\tEST\t257\tP\t2.86\tP\n",
      "USGS\t02085070\t2018-11-07 10:15\tEST\t254\tP\t2.85\tP\n",
      "USGS\t02085070\t2018-11-07 10:30\tEST\t251\tP\t2.84\tP\n",
      "USGS\t02085070\t2018-11-07 10:45\tEST\t251\tP\t2.84\tP\n",
      "USGS\t02085070\t2018-11-07 11:00\tEST\t251\tP\t2.84\tP\n",
      "USGS\t02085070\t2018-11-07 11:15\tEST\t248\tP\t2.83\tP\n",
      "USGS\t02085070\t2018-11-07 11:30\tEST\t248\tP\t2.83\tP\n",
      "USGS\t02085070\t2018-11-07 11:45\tEST\t245\tP\t2.82\tP\n",
      "USGS\t02085070\t2018-11-07 12:00\tEST\t245\tP\t2.82\tP\n",
      "USGS\t02085070\t2018-11-07 12:15\tEST\t242\tP\t2.81\tP\n",
      "USGS\t02085070\t2018-11-07 12:30\tEST\t242\tP\t2.81\tP\n",
      "USGS\t02085070\t2018-11-07 12:45\tEST\t239\tP\t2.80\tP\n",
      "USGS\t02085070\t2018-11-07 13:00\tEST\t239\tP\t2.80\tP\n",
      "USGS\t02085070\t2018-11-07 13:15\tEST\t242\tP\t2.81\tP\n",
      "USGS\t02085070\t2018-11-07 13:30\tEST\t239\tP\t2.80\tP\n",
      "USGS\t02085070\t2018-11-07 13:45\tEST\t233\tP\t2.78\tP\n",
      "USGS\t02085070\t2018-11-07 14:00\tEST\t233\tP\t2.78\tP\n",
      "USGS\t02085070\t2018-11-07 14:15\tEST\t233\tP\t2.78\tP\n",
      "USGS\t02085070\t2018-11-07 14:30\tEST\t231\tP\t2.77\tP\n",
      "USGS\t02085070\t2018-11-07 14:45\tEST\t231\tP\t2.77\tP\n",
      "USGS\t02085070\t2018-11-07 15:00\tEST\t231\tP\t2.77\tP\n",
      "USGS\t02085070\t2018-11-07 15:15\tEST\t228\tP\t2.76\tP\n",
      "USGS\t02085070\t2018-11-07 15:30\tEST\t228\tP\t2.76\tP\n",
      "USGS\t02085070\t2018-11-07 15:45\tEST\t225\tP\t2.75\tP\n",
      "USGS\t02085070\t2018-11-07 16:00\tEST\t225\tP\t2.75\tP\n",
      "USGS\t02085070\t2018-11-07 16:15\tEST\t222\tP\t2.74\tP\n",
      "USGS\t02085070\t2018-11-07 16:30\tEST\t222\tP\t2.74\tP\n",
      "USGS\t02085070\t2018-11-07 16:45\tEST\t220\tP\t2.73\tP\n",
      "USGS\t02085070\t2018-11-07 17:00\tEST\t220\tP\t2.73\tP\n",
      "USGS\t02085070\t2018-11-07 17:15\tEST\t220\tP\t2.73\tP\n",
      "USGS\t02085070\t2018-11-07 17:30\tEST\t217\tP\t2.72\tP\n",
      "USGS\t02085070\t2018-11-07 17:45\tEST\t217\tP\t2.72\tP\n",
      "USGS\t02085070\t2018-11-07 18:00\tEST\t214\tP\t2.71\tP\n",
      "USGS\t02085070\t2018-11-07 18:15\tEST\t214\tP\t2.71\tP\n",
      "USGS\t02085070\t2018-11-07 18:30\tEST\t212\tP\t2.70\tP\n",
      "USGS\t02085070\t2018-11-07 18:45\tEST\t212\tP\t2.70\tP\n",
      "USGS\t02085070\t2018-11-07 19:00\tEST\t212\tP\t2.70\tP\n",
      "USGS\t02085070\t2018-11-07 19:15\tEST\t212\tP\t2.70\tP\n",
      "\n"
     ]
    }
   ],
   "source": [
    "#What did we get? \n",
    "print(responseText)"
   ]
  },
  {
   "cell_type": "markdown",
   "metadata": {},
   "source": [
    "If you scroll all the way to the last line in the file, you get the most recent reading. We can use some Python to print out what this reading is... "
   ]
  },
  {
   "cell_type": "code",
   "execution_count": 18,
   "metadata": {},
   "outputs": [
    {
     "name": "stdout",
     "output_type": "stream",
     "text": [
      "['USGS', '02085070', '2018-11-07 19:15', 'EST', '212', 'P', '2.70', 'P']\n",
      "Site 02085070 recorded a discharge of 212 cfs on 2018-11-07 19:15\n"
     ]
    }
   ],
   "source": [
    "#Convert the response text into a list of lines and print the second to last line\n",
    "responseLines = responseText.split('\\n')\n",
    "#print(responseLines)\n",
    "lastRecord = responseLines[-2].split('\\t')\n",
    "print(lastRecord)\n",
    "#[-1] will lead to the last string in the lines, which are '', thats why we put [-2] to get the most recent reading.\n",
    "site = lastRecord[1]\n",
    "cfs = lastRecord[4]\n",
    "date = lastRecord[2]\n",
    "print(\"Site {0} recorded a discharge of {1} cfs on {2}\".format(site,cfs,date))"
   ]
  },
  {
   "cell_type": "markdown",
   "metadata": {},
   "source": [
    "► **EXERCISE**: The 3 code blocks below are copies of the ones above. Modify these code blocks to get data for site 02085039 (Eno River At Cole Mill Rd Nr Huckleberry Spring), and print out its most recent *gage height* (in feet):"
   ]
  },
  {
   "cell_type": "code",
   "execution_count": 19,
   "metadata": {},
   "outputs": [],
   "source": [
    "#dissect the URL into it's components, for easy comprehension -- and easy modification\n",
    "serviceURL = 'http://waterdata.usgs.gov/nwis/uv'\n",
    "parameters = {'cb_00060':'on',\n",
    "              'cb_00065':'on',\n",
    "              'format':'rdb',\n",
    "              'period':'1',\n",
    "              'site_no':'02085039',\n",
    "              'begin_date':'',\n",
    "              'end_date':''\n",
    "             }"
   ]
  },
  {
   "cell_type": "code",
   "execution_count": 28,
   "metadata": {},
   "outputs": [],
   "source": [
    "#Pass the url and its parameters to the server and get its response\n",
    "response = requests.get(serviceURL, parameters)\n",
    "responseText = response.text\n",
    "#print(responseText)"
   ]
  },
  {
   "cell_type": "code",
   "execution_count": 29,
   "metadata": {},
   "outputs": [
    {
     "name": "stdout",
     "output_type": "stream",
     "text": [
      "Site 02085039 recorded a gage height of 3.12 feet on 2018-11-07 20:00\n"
     ]
    }
   ],
   "source": [
    "#Convert the response text into a list of lines and print the second to last line\n",
    "responseLines = responseText.split('\\n')\n",
    "#print(responseLines)\n",
    "lastRecord = responseLines[-2].split('\\t')\n",
    "#print(lastRecord)\n",
    "site = lastRecord[1]\n",
    "date = lastRecord[2]\n",
    "gage = lastRecord[4]\n",
    "print(\"Site {0} recorded a gage height of {1} feet on {2}\".format(site,gage,date))"
   ]
  }
 ],
 "metadata": {
  "kernelspec": {
   "display_name": "Python 3",
   "language": "python",
   "name": "python3"
  },
  "language_info": {
   "codemirror_mode": {
    "name": "ipython",
    "version": 3
   },
   "file_extension": ".py",
   "mimetype": "text/x-python",
   "name": "python",
   "nbconvert_exporter": "python",
   "pygments_lexer": "ipython3",
   "version": "3.6.5"
  }
 },
 "nbformat": 4,
 "nbformat_minor": 2
}
